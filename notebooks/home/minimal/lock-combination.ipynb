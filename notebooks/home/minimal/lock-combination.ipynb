{
 "cells": [
  {
   "cell_type": "markdown",
   "id": "5e1e1fb7-2aef-40b9-9a5d-7f2d63a30ee1",
   "metadata": {},
   "source": [
    "# Lock Combination Solver\n",
    "\n",
    "Problem to solve: Lea gave us a lock with an 8 key combination, but we forgot it. She also gave us a convoluted way to remember it:\n",
    "- Sum of the first two numbers equals 1\n",
    "- Sum of 3rd and 4th numbers equals 6\n",
    "- Sum of the 4 last numbers equals 9\n",
    "- Product of 1st, 5th, 7th and 8th number is equal to 20\n",
    "- Division of 4th number with 5th number equals sum of 1st and 7th number"
   ]
  },
  {
   "cell_type": "markdown",
   "id": "f3d97198-5fc7-4fd9-aca1-1e3f7d800a45",
   "metadata": {},
   "source": [
    "## Brute force method"
   ]
  },
  {
   "cell_type": "code",
   "execution_count": 3,
   "id": "604a26e5-77d5-47b8-ac21-a819e3a96c1a",
   "metadata": {},
   "outputs": [
    {
     "data": {
      "text/plain": [
       "'10062025'"
      ]
     },
     "execution_count": 3,
     "metadata": {},
     "output_type": "execute_result"
    }
   ],
   "source": [
    "# combination is a list of size 8\n",
    "def isCombinationCorrect(combination):\n",
    "    c1, c2, c3, c4, c5, c6, c7, c8 = combination\n",
    "\n",
    "    return (c1 + c2 == 1) and (c3 + c4 == 6) and \\\n",
    "    (c5 + c6 + c7 + c8 == 9) and (c1 * c5 * c7 * c8 == 20) and \\\n",
    "    ((c4 / c5) == c1 + c7)\n",
    "\n",
    "def challengeAllCombinations():\n",
    "    for c1 in range(10):\n",
    "        for c2 in range(10):\n",
    "            for c3 in range(10):\n",
    "                for c4 in range(10):\n",
    "                    for c5 in range(10):\n",
    "                        for c6 in range(10):\n",
    "                            for c7 in range(10):\n",
    "                                for c8 in range(10):\n",
    "                                    code = list((c1, c2, c3, c4, c5, c6, c7, c8))\n",
    "                                    correct = isCombinationCorrect(code)\n",
    "                                    if (correct):\n",
    "                                        return \"\".join(map(str, code))\n",
    "\n",
    "challengeAllCombinations()"
   ]
  },
  {
   "cell_type": "markdown",
   "id": "35ba993b-4657-435f-849a-5b91c42dcb36",
   "metadata": {},
   "source": [
    "## Z3 Solver method"
   ]
  },
  {
   "cell_type": "code",
   "execution_count": 46,
   "id": "d7ba26e6-2fdb-4ba5-a05c-ca2bd14624de",
   "metadata": {},
   "outputs": [
    {
     "name": "stdout",
     "output_type": "stream",
     "text": [
      "Collecting z3-solver\n",
      "  Downloading z3_solver-4.15.3.0-py3-none-manylinux_2_17_x86_64.manylinux2014_x86_64.whl.metadata (602 bytes)\n",
      "Downloading z3_solver-4.15.3.0-py3-none-manylinux_2_17_x86_64.manylinux2014_x86_64.whl (29.1 MB)\n",
      "\u001b[2K   \u001b[90m━━━━━━━━━━━━━━━━━━━━━━━━━━━━━━━━━━━━━━━━\u001b[0m \u001b[32m29.1/29.1 MB\u001b[0m \u001b[31m72.4 MB/s\u001b[0m  \u001b[33m0:00:00\u001b[0m eta \u001b[36m0:00:01\u001b[0m\n",
      "\u001b[?25hInstalling collected packages: z3-solver\n",
      "Successfully installed z3-solver-4.15.3.0\n"
     ]
    }
   ],
   "source": [
    "import sys\n",
    "!{sys.executable} -m pip install z3-solver"
   ]
  },
  {
   "cell_type": "code",
   "execution_count": 48,
   "id": "4f03a2d5-0de9-44c5-bfc6-7ba7bbc50cde",
   "metadata": {},
   "outputs": [],
   "source": [
    "from z3 import *\n",
    "\n",
    "\n",
    "\n",
    "\n",
    "solver = Solver()\n"
   ]
  }
 ],
 "metadata": {
  "kernelspec": {
   "display_name": "Python 3 (ipykernel)",
   "language": "python",
   "name": "python3"
  },
  "language_info": {
   "codemirror_mode": {
    "name": "ipython",
    "version": 3
   },
   "file_extension": ".py",
   "mimetype": "text/x-python",
   "name": "python",
   "nbconvert_exporter": "python",
   "pygments_lexer": "ipython3",
   "version": "3.13.7"
  }
 },
 "nbformat": 4,
 "nbformat_minor": 5
}
