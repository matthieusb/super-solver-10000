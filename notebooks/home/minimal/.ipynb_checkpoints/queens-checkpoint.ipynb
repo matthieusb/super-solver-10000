{
 "cells": [
  {
   "cell_type": "markdown",
   "id": "5e1e1fb7-2aef-40b9-9a5d-7f2d63a30ee1",
   "metadata": {},
   "source": [
    "# Package install dependencies Solver\n"
   ]
  },
  {
   "cell_type": "markdown",
   "id": "f3d97198-5fc7-4fd9-aca1-1e3f7d800a45",
   "metadata": {},
   "source": [
    "## Constraint solver method"
   ]
  },
  {
   "cell_type": "code",
   "execution_count": 1,
   "id": "d7ba26e6-2fdb-4ba5-a05c-ca2bd14624de",
   "metadata": {},
   "outputs": [
    {
     "name": "stdout",
     "output_type": "stream",
     "text": [
      "Requirement already satisfied: z3-solver in /opt/conda/lib/python3.13/site-packages (4.15.3.0)\n"
     ]
    }
   ],
   "source": [
    "import sys\n",
    "!{sys.executable} -m pip install z3-solver"
   ]
  },
  {
   "cell_type": "code",
   "execution_count": 10,
   "id": "4f03a2d5-0de9-44c5-bfc6-7ba7bbc50cde",
   "metadata": {},
   "outputs": [
    {
     "name": "stdout",
     "output_type": "stream",
     "text": [
      "Check for installation capability of gcc and python3-full\n",
      "[gcc, python3Full, gnuBinutils, buildEssential]\n",
      "Check for installation capability of gcc and gnu-binutils-weird\n",
      "invalid installation profile\n"
     ]
    }
   ],
   "source": [
    "from z3 import *\n",
    "\n",
    "def depends_on(pack, deps):\n",
    "    if is_expr(deps):\n",
    "        return Implies(pack, deps)\n",
    "    else:\n",
    "        return And([ Implies(pack, dep) for dep in deps ])\n",
    "\n",
    "def conflict(*packs):\n",
    "    return Or([ Not(pack) for pack in packs ])\n",
    "\n",
    "gcc, gzip, gnuBinutils, buildEssential, gccNightly, gnuBinutilsWeird, gzipCrazy, python3Full = Bools('gcc gzip gnuBinutils buildEssential gccNightly gnuBinutilsWeird gzipCrazy python3Full')\n",
    "\n",
    "def install_check(*problem):\n",
    "    solver = Solver()\n",
    "    solver.add(*problem)\n",
    "    if solver.check() == sat:\n",
    "        model = solver.model()\n",
    "        solution = []\n",
    "        for x in model:\n",
    "            if is_true(model[x]):\n",
    "                solution.append(x())\n",
    "        print(solution)\n",
    "    else:\n",
    "        print(\"invalid installation profile\")\n",
    "\n",
    "print(\"Check for installation capability of gcc and python3-full\")\n",
    "install_check(depends_on(gcc, [gnuBinutils, buildEssential]),\n",
    "              depends_on(buildEssential, gnuBinutils),\n",
    "              conflict(gzip, gzipCrazy),\n",
    "              conflict(gnuBinutils, gnuBinutilsWeird),\n",
    "              gcc, python3Full)\n",
    "\n",
    "print(\"Check for installation capability of gcc and gnu-binutils-weird\")\n",
    "install_check(depends_on(gcc, [gnuBinutils, buildEssential]),\n",
    "              depends_on(buildEssential, gnuBinutils),\n",
    "              conflict(gzip, gzipCrazy),\n",
    "              conflict(gnuBinutils, gnuBinutilsWeird),\n",
    "              gcc, gnuBinutilsWeird)"
   ]
  },
  {
   "cell_type": "code",
   "execution_count": null,
   "id": "8bfa0173-bc7d-4492-abde-4919f94a3ee4",
   "metadata": {},
   "outputs": [],
   "source": []
  }
 ],
 "metadata": {
  "kernelspec": {
   "display_name": "Python 3 (ipykernel)",
   "language": "python",
   "name": "python3"
  },
  "language_info": {
   "codemirror_mode": {
    "name": "ipython",
    "version": 3
   },
   "file_extension": ".py",
   "mimetype": "text/x-python",
   "name": "python",
   "nbconvert_exporter": "python",
   "pygments_lexer": "ipython3",
   "version": "3.13.7"
  }
 },
 "nbformat": 4,
 "nbformat_minor": 5
}
