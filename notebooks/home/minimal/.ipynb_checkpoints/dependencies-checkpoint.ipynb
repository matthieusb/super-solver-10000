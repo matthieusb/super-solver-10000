{
 "cells": [
  {
   "cell_type": "markdown",
   "id": "5e1e1fb7-2aef-40b9-9a5d-7f2d63a30ee1",
   "metadata": {},
   "source": [
    "# Queens problem Solver\n",
    "\n",
    "- 8x8 classic chessboard\n",
    "- 8 queens to place\n",
    "- No queens should threaten each other"
   ]
  },
  {
   "cell_type": "markdown",
   "id": "f3d97198-5fc7-4fd9-aca1-1e3f7d800a45",
   "metadata": {},
   "source": [
    "## Constraint solver method"
   ]
  },
  {
   "cell_type": "code",
   "execution_count": 1,
   "id": "d7ba26e6-2fdb-4ba5-a05c-ca2bd14624de",
   "metadata": {},
   "outputs": [
    {
     "name": "stdout",
     "output_type": "stream",
     "text": [
      "Requirement already satisfied: z3-solver in /opt/conda/lib/python3.13/site-packages (4.15.3.0)\n"
     ]
    }
   ],
   "source": [
    "import sys\n",
    "!{sys.executable} -m pip install z3-solver"
   ]
  },
  {
   "cell_type": "code",
   "execution_count": 88,
   "id": "4f03a2d5-0de9-44c5-bfc6-7ba7bbc50cde",
   "metadata": {},
   "outputs": [],
   "source": [
    "from z3 import *\n",
    "\n",
    "Queens = [ Int(f\"Q_{i+1}\") for i in range(8) ]\n",
    "\n",
    "\n",
    "eachQueenIsInAColumn = [ And(1 <= Queens[i], Queens[i] <= 8) for i in range(8) ]\n",
    "atMostOneQueenPerColumn = [ Distinct(Queens) ]\n",
    "queensShouldNotThreatenEachOtherOnDiagonals = [ If(i == j, True, And(Queens[i] - Queens[j] != i - j, Queens[i] - Queens[j] != j - i)) for i in range(8) for j in range(i) ]\n",
    "\n",
    "solver = Solver()\n",
    "\n",
    "solver.add(eachQueenIsInAColumn)\n",
    "solver.add(atMostOneQueenPerColumn)\n",
    "solver.add(queensShouldNotThreatenEachOtherOnDiagonals)\n",
    "\n",
    "\n",
    "solutions = []\n",
    "while solver.check() == sat:\n",
    "    solution = solver.model()\n",
    "    solutions.append(solution)\n",
    "\n",
    "    block = []\n",
    "    for var in solution:\n",
    "          block.append(var() != solution[var])\n",
    "    solver.add(Or(block))"
   ]
  },
  {
   "cell_type": "code",
   "execution_count": 89,
   "id": "e8b1153f-c307-40e5-8b67-cd625b39d45e",
   "metadata": {},
   "outputs": [
    {
     "name": "stdout",
     "output_type": "stream",
     "text": [
      "Number of solutions found: 92\n",
      "[Q_3 = 8,\n",
      " Q_1 = 4,\n",
      " Q_7 = 5,\n",
      " Q_8 = 7,\n",
      " Q_5 = 1,\n",
      " Q_4 = 6,\n",
      " Q_2 = 2,\n",
      " Q_6 = 3]\n",
      "[Q_3 = 7,\n",
      " Q_1 = 3,\n",
      " Q_7 = 4,\n",
      " Q_5 = 8,\n",
      " Q_4 = 5,\n",
      " Q_8 = 6,\n",
      " Q_2 = 1,\n",
      " Q_6 = 2]\n",
      "[Q_3 = 8,\n",
      " Q_1 = 4,\n",
      " Q_7 = 3,\n",
      " Q_5 = 7,\n",
      " Q_4 = 5,\n",
      " Q_8 = 6,\n",
      " Q_2 = 2,\n",
      " Q_6 = 1]\n",
      "[Q_3 = 2,\n",
      " Q_1 = 7,\n",
      " Q_7 = 3,\n",
      " Q_5 = 8,\n",
      " Q_4 = 5,\n",
      " Q_8 = 6,\n",
      " Q_2 = 4,\n",
      " Q_6 = 1]\n",
      "[Q_3 = 2,\n",
      " Q_1 = 3,\n",
      " Q_7 = 1,\n",
      " Q_5 = 6,\n",
      " Q_4 = 8,\n",
      " Q_8 = 5,\n",
      " Q_2 = 7,\n",
      " Q_6 = 4]\n",
      "[Q_3 = 8,\n",
      " Q_1 = 5,\n",
      " Q_7 = 6,\n",
      " Q_5 = 7,\n",
      " Q_4 = 4,\n",
      " Q_8 = 2,\n",
      " Q_2 = 3,\n",
      " Q_6 = 1]\n",
      "[Q_3 = 1,\n",
      " Q_1 = 6,\n",
      " Q_7 = 7,\n",
      " Q_5 = 8,\n",
      " Q_4 = 5,\n",
      " Q_8 = 3,\n",
      " Q_2 = 4,\n",
      " Q_6 = 2]\n",
      "[Q_3 = 4,\n",
      " Q_1 = 1,\n",
      " Q_7 = 5,\n",
      " Q_5 = 8,\n",
      " Q_4 = 6,\n",
      " Q_8 = 3,\n",
      " Q_2 = 7,\n",
      " Q_6 = 2]\n",
      "[Q_3 = 5,\n",
      " Q_1 = 4,\n",
      " Q_7 = 7,\n",
      " Q_5 = 6,\n",
      " Q_4 = 8,\n",
      " Q_8 = 2,\n",
      " Q_2 = 1,\n",
      " Q_6 = 3]\n",
      "[Q_3 = 2,\n",
      " Q_1 = 3,\n",
      " Q_7 = 7,\n",
      " Q_5 = 6,\n",
      " Q_4 = 8,\n",
      " Q_8 = 1,\n",
      " Q_2 = 5,\n",
      " Q_6 = 4]\n"
     ]
    }
   ],
   "source": [
    "print(f\"Number of solutions found: {len(solutions)}\")\n",
    "\n",
    "for i in range(10):\n",
    "    print(solutions[i])"
   ]
  }
 ],
 "metadata": {
  "kernelspec": {
   "display_name": "Python 3 (ipykernel)",
   "language": "python",
   "name": "python3"
  },
  "language_info": {
   "codemirror_mode": {
    "name": "ipython",
    "version": 3
   },
   "file_extension": ".py",
   "mimetype": "text/x-python",
   "name": "python",
   "nbconvert_exporter": "python",
   "pygments_lexer": "ipython3",
   "version": "3.13.7"
  }
 },
 "nbformat": 4,
 "nbformat_minor": 5
}
